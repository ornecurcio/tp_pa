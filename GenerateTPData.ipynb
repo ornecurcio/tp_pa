{
  "cells": [
    {
      "cell_type": "code",
      "execution_count": 1,
      "id": "783fc00e",
      "metadata": {
        "id": "783fc00e"
      },
      "outputs": [],
      "source": [
        "import pandas as pd\n",
        "import random\n",
        "import string"
      ]
    },
    {
      "cell_type": "markdown",
      "id": "fae29868",
      "metadata": {
        "id": "fae29868"
      },
      "source": [
        "Genero 20 advertiser_id activos y 5 inactivos"
      ]
    },
    {
      "cell_type": "code",
      "execution_count": 2,
      "id": "1e321326",
      "metadata": {
        "id": "1e321326"
      },
      "outputs": [],
      "source": [
        "random.seed(90)\n",
        "active_advertisers = [''.join(random.choices(string.ascii_uppercase + string.digits, k = 20)) for _ in range(20)]\n",
        "inactive_advertisers = [''.join(random.choices(string.ascii_uppercase + string.digits, k = 20)) for _ in range(5)]\n",
        "all_advertisers = active_advertisers+inactive_advertisers"
      ]
    },
    {
      "cell_type": "code",
      "execution_count": 3,
      "id": "8d4020ed",
      "metadata": {
        "colab": {
          "base_uri": "https://localhost:8080/"
        },
        "id": "8d4020ed",
        "outputId": "7b900220-f10d-4ddd-8e0c-2ef024c79360"
      },
      "outputs": [
        {
          "data": {
            "text/plain": [
              "['HDXVWMQ53JJC0BY84N3E',\n",
              " '1GYAS7HDPACX993P201R',\n",
              " '0MJGNPL5TP85CMYP807Y',\n",
              " 'HCOFU1UZE99KYYWKNMK5',\n",
              " 'YWAER0O2F074ZCLNAK8P',\n",
              " '1HFCN40GNHOQ5CVNX4JQ',\n",
              " '7WRLUXRJOEMZ6MNX4J7C',\n",
              " '2FSH0GSEIMRP3GWARS3L',\n",
              " 'IB14JRRL5RLZ114BOEOU',\n",
              " '93TY14WA1ZYU81WFK6NH',\n",
              " 'VIXGFHT6B6DUZLD86IIN',\n",
              " 'AV8X2SA4NICREY7DDAPR',\n",
              " 'Z5J51IX1PVK9BT28E50C',\n",
              " 'OCM9UM89HXY7B2LQNSND',\n",
              " 'LTY14YH48ZRDN5I50WE3',\n",
              " 'RALVMMRCZ047ZH6W3HMC',\n",
              " 'NLXH5XTBJTBCH8IRH3B0',\n",
              " 'HDXTQ93K03FK9NNSWWJ2',\n",
              " 'K4HA2ZD4UCNEKZZTNXKO',\n",
              " 'KD67BLL9551LG3GPTG9K']"
            ]
          },
          "execution_count": 3,
          "metadata": {},
          "output_type": "execute_result"
        }
      ],
      "source": [
        "active_advertisers"
      ]
    },
    {
      "cell_type": "code",
      "execution_count": 4,
      "id": "fa8aa17f",
      "metadata": {
        "id": "fa8aa17f"
      },
      "outputs": [],
      "source": [
        "pd.DataFrame(active_advertisers, columns=['advertiser_id']).to_csv('advertiser_ids.csv', index=False)"
      ]
    },
    {
      "cell_type": "markdown",
      "id": "0901d8ee",
      "metadata": {
        "id": "0901d8ee"
      },
      "source": [
        "Genero un catalogo de 100 productos para cada uno de los advertisables"
      ]
    },
    {
      "cell_type": "code",
      "execution_count": 5,
      "id": "f14e127e",
      "metadata": {
        "id": "f14e127e"
      },
      "outputs": [],
      "source": [
        "advertisers_catalogs = {}\n",
        "for advertiser in all_advertisers:\n",
        "    advertisers_catalogs[advertiser] = [''.join(random.choices(string.ascii_lowercase + string.digits, k = 6)) for _ in range(100)]"
      ]
    },
    {
      "cell_type": "code",
      "execution_count": 6,
      "id": "29536b71",
      "metadata": {
        "id": "29536b71"
      },
      "outputs": [],
      "source": [
        "possible_dates = [f'2024-04-{day:02d}' for day in range(29,31)] + [f'2024-05-{day:02d}' for day in range(1,31)]"
      ]
    },
    {
      "cell_type": "markdown",
      "id": "3a70f46f",
      "metadata": {
        "id": "3a70f46f"
      },
      "source": [
        "Genero lineas de vistas de producto"
      ]
    },
    {
      "cell_type": "code",
      "execution_count": 7,
      "id": "9d9881d6",
      "metadata": {
        "id": "9d9881d6"
      },
      "outputs": [],
      "source": [
        "product_views = [[advertiser := random.choice(all_advertisers), random.choice(advertisers_catalogs[advertiser]), random.choice(possible_dates)] for _ in range(100_000)]"
      ]
    },
    {
      "cell_type": "code",
      "execution_count": 8,
      "id": "a9ad9fb2",
      "metadata": {
        "id": "a9ad9fb2"
      },
      "outputs": [],
      "source": [
        "df_product_views = pd.DataFrame(product_views, columns=['advertiser_id', 'product_id', 'date'])"
      ]
    },
    {
      "cell_type": "code",
      "execution_count": 9,
      "id": "6e325c08",
      "metadata": {
        "id": "6e325c08"
      },
      "outputs": [],
      "source": [
        "df_product_views = df_product_views.sort_values('date').reset_index(drop=True)"
      ]
    },
    {
      "cell_type": "code",
      "execution_count": 10,
      "id": "6b529e6b",
      "metadata": {
        "colab": {
          "base_uri": "https://localhost:8080/",
          "height": 677
        },
        "id": "6b529e6b",
        "outputId": "6b1a783d-452f-4f60-d9a7-a1463d39b4ec"
      },
      "outputs": [
        {
          "data": {
            "text/html": [
              "<div>\n",
              "<style scoped>\n",
              "    .dataframe tbody tr th:only-of-type {\n",
              "        vertical-align: middle;\n",
              "    }\n",
              "\n",
              "    .dataframe tbody tr th {\n",
              "        vertical-align: top;\n",
              "    }\n",
              "\n",
              "    .dataframe thead th {\n",
              "        text-align: right;\n",
              "    }\n",
              "</style>\n",
              "<table border=\"1\" class=\"dataframe\">\n",
              "  <thead>\n",
              "    <tr style=\"text-align: right;\">\n",
              "      <th></th>\n",
              "      <th>advertiser_id</th>\n",
              "      <th>product_id</th>\n",
              "      <th>date</th>\n",
              "    </tr>\n",
              "  </thead>\n",
              "  <tbody>\n",
              "    <tr>\n",
              "      <th>0</th>\n",
              "      <td>RJTUNNO5YNTYM0QZRTN6</td>\n",
              "      <td>prha8z</td>\n",
              "      <td>2024-04-29</td>\n",
              "    </tr>\n",
              "    <tr>\n",
              "      <th>1</th>\n",
              "      <td>K4HA2ZD4UCNEKZZTNXKO</td>\n",
              "      <td>9vy9ge</td>\n",
              "      <td>2024-04-29</td>\n",
              "    </tr>\n",
              "    <tr>\n",
              "      <th>2</th>\n",
              "      <td>K3F3LVR6GWV7RJ4KHQUR</td>\n",
              "      <td>athcs2</td>\n",
              "      <td>2024-04-29</td>\n",
              "    </tr>\n",
              "    <tr>\n",
              "      <th>3</th>\n",
              "      <td>IB14JRRL5RLZ114BOEOU</td>\n",
              "      <td>ulb5dc</td>\n",
              "      <td>2024-04-29</td>\n",
              "    </tr>\n",
              "    <tr>\n",
              "      <th>4</th>\n",
              "      <td>0MJGNPL5TP85CMYP807Y</td>\n",
              "      <td>iqiuao</td>\n",
              "      <td>2024-04-29</td>\n",
              "    </tr>\n",
              "    <tr>\n",
              "      <th>5</th>\n",
              "      <td>HDXVWMQ53JJC0BY84N3E</td>\n",
              "      <td>bj7l61</td>\n",
              "      <td>2024-04-29</td>\n",
              "    </tr>\n",
              "    <tr>\n",
              "      <th>6</th>\n",
              "      <td>AV8X2SA4NICREY7DDAPR</td>\n",
              "      <td>63flpw</td>\n",
              "      <td>2024-04-29</td>\n",
              "    </tr>\n",
              "    <tr>\n",
              "      <th>7</th>\n",
              "      <td>HDXVWMQ53JJC0BY84N3E</td>\n",
              "      <td>7n37dc</td>\n",
              "      <td>2024-04-29</td>\n",
              "    </tr>\n",
              "    <tr>\n",
              "      <th>8</th>\n",
              "      <td>Z5J51IX1PVK9BT28E50C</td>\n",
              "      <td>vf5esd</td>\n",
              "      <td>2024-04-29</td>\n",
              "    </tr>\n",
              "    <tr>\n",
              "      <th>9</th>\n",
              "      <td>RJTUNNO5YNTYM0QZRTN6</td>\n",
              "      <td>gzc7m6</td>\n",
              "      <td>2024-04-29</td>\n",
              "    </tr>\n",
              "    <tr>\n",
              "      <th>10</th>\n",
              "      <td>NLXH5XTBJTBCH8IRH3B0</td>\n",
              "      <td>17al8g</td>\n",
              "      <td>2024-04-29</td>\n",
              "    </tr>\n",
              "    <tr>\n",
              "      <th>11</th>\n",
              "      <td>K4HA2ZD4UCNEKZZTNXKO</td>\n",
              "      <td>zm32er</td>\n",
              "      <td>2024-04-29</td>\n",
              "    </tr>\n",
              "    <tr>\n",
              "      <th>12</th>\n",
              "      <td>RJTUNNO5YNTYM0QZRTN6</td>\n",
              "      <td>9f2cxk</td>\n",
              "      <td>2024-04-29</td>\n",
              "    </tr>\n",
              "    <tr>\n",
              "      <th>13</th>\n",
              "      <td>RALVMMRCZ047ZH6W3HMC</td>\n",
              "      <td>hainuy</td>\n",
              "      <td>2024-04-29</td>\n",
              "    </tr>\n",
              "    <tr>\n",
              "      <th>14</th>\n",
              "      <td>RJTUNNO5YNTYM0QZRTN6</td>\n",
              "      <td>hrcgge</td>\n",
              "      <td>2024-04-29</td>\n",
              "    </tr>\n",
              "    <tr>\n",
              "      <th>15</th>\n",
              "      <td>0MJGNPL5TP85CMYP807Y</td>\n",
              "      <td>g1ioas</td>\n",
              "      <td>2024-04-29</td>\n",
              "    </tr>\n",
              "    <tr>\n",
              "      <th>16</th>\n",
              "      <td>K3F3LVR6GWV7RJ4KHQUR</td>\n",
              "      <td>gt3dhd</td>\n",
              "      <td>2024-04-29</td>\n",
              "    </tr>\n",
              "    <tr>\n",
              "      <th>17</th>\n",
              "      <td>RALVMMRCZ047ZH6W3HMC</td>\n",
              "      <td>4m0gaa</td>\n",
              "      <td>2024-04-29</td>\n",
              "    </tr>\n",
              "    <tr>\n",
              "      <th>18</th>\n",
              "      <td>H099WGNZZTINN04LKHQF</td>\n",
              "      <td>c077xk</td>\n",
              "      <td>2024-04-29</td>\n",
              "    </tr>\n",
              "    <tr>\n",
              "      <th>19</th>\n",
              "      <td>IB14JRRL5RLZ114BOEOU</td>\n",
              "      <td>zs7ggq</td>\n",
              "      <td>2024-04-29</td>\n",
              "    </tr>\n",
              "  </tbody>\n",
              "</table>\n",
              "</div>"
            ],
            "text/plain": [
              "           advertiser_id product_id        date\n",
              "0   RJTUNNO5YNTYM0QZRTN6     prha8z  2024-04-29\n",
              "1   K4HA2ZD4UCNEKZZTNXKO     9vy9ge  2024-04-29\n",
              "2   K3F3LVR6GWV7RJ4KHQUR     athcs2  2024-04-29\n",
              "3   IB14JRRL5RLZ114BOEOU     ulb5dc  2024-04-29\n",
              "4   0MJGNPL5TP85CMYP807Y     iqiuao  2024-04-29\n",
              "5   HDXVWMQ53JJC0BY84N3E     bj7l61  2024-04-29\n",
              "6   AV8X2SA4NICREY7DDAPR     63flpw  2024-04-29\n",
              "7   HDXVWMQ53JJC0BY84N3E     7n37dc  2024-04-29\n",
              "8   Z5J51IX1PVK9BT28E50C     vf5esd  2024-04-29\n",
              "9   RJTUNNO5YNTYM0QZRTN6     gzc7m6  2024-04-29\n",
              "10  NLXH5XTBJTBCH8IRH3B0     17al8g  2024-04-29\n",
              "11  K4HA2ZD4UCNEKZZTNXKO     zm32er  2024-04-29\n",
              "12  RJTUNNO5YNTYM0QZRTN6     9f2cxk  2024-04-29\n",
              "13  RALVMMRCZ047ZH6W3HMC     hainuy  2024-04-29\n",
              "14  RJTUNNO5YNTYM0QZRTN6     hrcgge  2024-04-29\n",
              "15  0MJGNPL5TP85CMYP807Y     g1ioas  2024-04-29\n",
              "16  K3F3LVR6GWV7RJ4KHQUR     gt3dhd  2024-04-29\n",
              "17  RALVMMRCZ047ZH6W3HMC     4m0gaa  2024-04-29\n",
              "18  H099WGNZZTINN04LKHQF     c077xk  2024-04-29\n",
              "19  IB14JRRL5RLZ114BOEOU     zs7ggq  2024-04-29"
            ]
          },
          "execution_count": 10,
          "metadata": {},
          "output_type": "execute_result"
        }
      ],
      "source": [
        "df_product_views.head(20)"
      ]
    },
    {
      "cell_type": "code",
      "execution_count": 11,
      "id": "82920f82",
      "metadata": {
        "id": "82920f82"
      },
      "outputs": [],
      "source": [
        "df_product_views.to_csv('product_views.csv', index=False)"
      ]
    },
    {
      "cell_type": "markdown",
      "id": "59a5441f",
      "metadata": {
        "id": "59a5441f"
      },
      "source": [
        "Genero lineas de vistas de ads"
      ]
    },
    {
      "cell_type": "code",
      "execution_count": 12,
      "id": "000c1cec",
      "metadata": {
        "id": "000c1cec"
      },
      "outputs": [],
      "source": [
        "ads_views = [[advertiser := random.choice(all_advertisers), random.choice(advertisers_catalogs[advertiser]), random.choices(['impression', 'click'], weights=[99, 1])[0], random.choice(possible_dates)] for _ in range(100_000)]"
      ]
    },
    {
      "cell_type": "code",
      "execution_count": 13,
      "id": "4808515d",
      "metadata": {
        "id": "4808515d"
      },
      "outputs": [],
      "source": [
        "df_ads_views = pd.DataFrame(ads_views, columns=['advertiser_id', 'product_id', 'type', 'date'])"
      ]
    },
    {
      "cell_type": "code",
      "execution_count": 14,
      "id": "1243bec6",
      "metadata": {
        "id": "1243bec6"
      },
      "outputs": [],
      "source": [
        "df_ads_views = df_ads_views.sort_values('date').reset_index(drop=True)"
      ]
    },
    {
      "cell_type": "code",
      "execution_count": 15,
      "id": "317bde80",
      "metadata": {
        "colab": {
          "base_uri": "https://localhost:8080/",
          "height": 677
        },
        "id": "317bde80",
        "outputId": "127497cd-b18c-43b7-9476-60a26b4058d2"
      },
      "outputs": [
        {
          "data": {
            "text/html": [
              "<div>\n",
              "<style scoped>\n",
              "    .dataframe tbody tr th:only-of-type {\n",
              "        vertical-align: middle;\n",
              "    }\n",
              "\n",
              "    .dataframe tbody tr th {\n",
              "        vertical-align: top;\n",
              "    }\n",
              "\n",
              "    .dataframe thead th {\n",
              "        text-align: right;\n",
              "    }\n",
              "</style>\n",
              "<table border=\"1\" class=\"dataframe\">\n",
              "  <thead>\n",
              "    <tr style=\"text-align: right;\">\n",
              "      <th></th>\n",
              "      <th>advertiser_id</th>\n",
              "      <th>product_id</th>\n",
              "      <th>type</th>\n",
              "      <th>date</th>\n",
              "    </tr>\n",
              "  </thead>\n",
              "  <tbody>\n",
              "    <tr>\n",
              "      <th>0</th>\n",
              "      <td>OCM9UM89HXY7B2LQNSND</td>\n",
              "      <td>7wg4s6</td>\n",
              "      <td>impression</td>\n",
              "      <td>2024-04-29</td>\n",
              "    </tr>\n",
              "    <tr>\n",
              "      <th>1</th>\n",
              "      <td>9CO8S9FO7VBMNNINLKDF</td>\n",
              "      <td>5mjfs2</td>\n",
              "      <td>impression</td>\n",
              "      <td>2024-04-29</td>\n",
              "    </tr>\n",
              "    <tr>\n",
              "      <th>2</th>\n",
              "      <td>OCM9UM89HXY7B2LQNSND</td>\n",
              "      <td>evm6u9</td>\n",
              "      <td>impression</td>\n",
              "      <td>2024-04-29</td>\n",
              "    </tr>\n",
              "    <tr>\n",
              "      <th>3</th>\n",
              "      <td>K3F3LVR6GWV7RJ4KHQUR</td>\n",
              "      <td>pnt8zy</td>\n",
              "      <td>impression</td>\n",
              "      <td>2024-04-29</td>\n",
              "    </tr>\n",
              "    <tr>\n",
              "      <th>4</th>\n",
              "      <td>0MJGNPL5TP85CMYP807Y</td>\n",
              "      <td>kz5840</td>\n",
              "      <td>impression</td>\n",
              "      <td>2024-04-29</td>\n",
              "    </tr>\n",
              "    <tr>\n",
              "      <th>5</th>\n",
              "      <td>1HFCN40GNHOQ5CVNX4JQ</td>\n",
              "      <td>begmua</td>\n",
              "      <td>impression</td>\n",
              "      <td>2024-04-29</td>\n",
              "    </tr>\n",
              "    <tr>\n",
              "      <th>6</th>\n",
              "      <td>K3F3LVR6GWV7RJ4KHQUR</td>\n",
              "      <td>9nk245</td>\n",
              "      <td>impression</td>\n",
              "      <td>2024-04-29</td>\n",
              "    </tr>\n",
              "    <tr>\n",
              "      <th>7</th>\n",
              "      <td>KD67BLL9551LG3GPTG9K</td>\n",
              "      <td>gerc6z</td>\n",
              "      <td>impression</td>\n",
              "      <td>2024-04-29</td>\n",
              "    </tr>\n",
              "    <tr>\n",
              "      <th>8</th>\n",
              "      <td>RJTUNNO5YNTYM0QZRTN6</td>\n",
              "      <td>35wzup</td>\n",
              "      <td>impression</td>\n",
              "      <td>2024-04-29</td>\n",
              "    </tr>\n",
              "    <tr>\n",
              "      <th>9</th>\n",
              "      <td>9CO8S9FO7VBMNNINLKDF</td>\n",
              "      <td>omhzmz</td>\n",
              "      <td>impression</td>\n",
              "      <td>2024-04-29</td>\n",
              "    </tr>\n",
              "    <tr>\n",
              "      <th>10</th>\n",
              "      <td>K3F3LVR6GWV7RJ4KHQUR</td>\n",
              "      <td>jed2os</td>\n",
              "      <td>impression</td>\n",
              "      <td>2024-04-29</td>\n",
              "    </tr>\n",
              "    <tr>\n",
              "      <th>11</th>\n",
              "      <td>HDXTQ93K03FK9NNSWWJ2</td>\n",
              "      <td>ywxz0s</td>\n",
              "      <td>impression</td>\n",
              "      <td>2024-04-29</td>\n",
              "    </tr>\n",
              "    <tr>\n",
              "      <th>12</th>\n",
              "      <td>1GYAS7HDPACX993P201R</td>\n",
              "      <td>w1xl2m</td>\n",
              "      <td>impression</td>\n",
              "      <td>2024-04-29</td>\n",
              "    </tr>\n",
              "    <tr>\n",
              "      <th>13</th>\n",
              "      <td>7WRLUXRJOEMZ6MNX4J7C</td>\n",
              "      <td>pyy94u</td>\n",
              "      <td>impression</td>\n",
              "      <td>2024-04-29</td>\n",
              "    </tr>\n",
              "    <tr>\n",
              "      <th>14</th>\n",
              "      <td>1GYAS7HDPACX993P201R</td>\n",
              "      <td>h09qpe</td>\n",
              "      <td>impression</td>\n",
              "      <td>2024-04-29</td>\n",
              "    </tr>\n",
              "    <tr>\n",
              "      <th>15</th>\n",
              "      <td>H099WGNZZTINN04LKHQF</td>\n",
              "      <td>izql3l</td>\n",
              "      <td>impression</td>\n",
              "      <td>2024-04-29</td>\n",
              "    </tr>\n",
              "    <tr>\n",
              "      <th>16</th>\n",
              "      <td>K4HA2ZD4UCNEKZZTNXKO</td>\n",
              "      <td>5j62cy</td>\n",
              "      <td>impression</td>\n",
              "      <td>2024-04-29</td>\n",
              "    </tr>\n",
              "    <tr>\n",
              "      <th>17</th>\n",
              "      <td>OCM9UM89HXY7B2LQNSND</td>\n",
              "      <td>ia93go</td>\n",
              "      <td>impression</td>\n",
              "      <td>2024-04-29</td>\n",
              "    </tr>\n",
              "    <tr>\n",
              "      <th>18</th>\n",
              "      <td>0MJGNPL5TP85CMYP807Y</td>\n",
              "      <td>l2jzkb</td>\n",
              "      <td>impression</td>\n",
              "      <td>2024-04-29</td>\n",
              "    </tr>\n",
              "    <tr>\n",
              "      <th>19</th>\n",
              "      <td>HCOFU1UZE99KYYWKNMK5</td>\n",
              "      <td>yx9bw0</td>\n",
              "      <td>impression</td>\n",
              "      <td>2024-04-29</td>\n",
              "    </tr>\n",
              "  </tbody>\n",
              "</table>\n",
              "</div>"
            ],
            "text/plain": [
              "           advertiser_id product_id        type        date\n",
              "0   OCM9UM89HXY7B2LQNSND     7wg4s6  impression  2024-04-29\n",
              "1   9CO8S9FO7VBMNNINLKDF     5mjfs2  impression  2024-04-29\n",
              "2   OCM9UM89HXY7B2LQNSND     evm6u9  impression  2024-04-29\n",
              "3   K3F3LVR6GWV7RJ4KHQUR     pnt8zy  impression  2024-04-29\n",
              "4   0MJGNPL5TP85CMYP807Y     kz5840  impression  2024-04-29\n",
              "5   1HFCN40GNHOQ5CVNX4JQ     begmua  impression  2024-04-29\n",
              "6   K3F3LVR6GWV7RJ4KHQUR     9nk245  impression  2024-04-29\n",
              "7   KD67BLL9551LG3GPTG9K     gerc6z  impression  2024-04-29\n",
              "8   RJTUNNO5YNTYM0QZRTN6     35wzup  impression  2024-04-29\n",
              "9   9CO8S9FO7VBMNNINLKDF     omhzmz  impression  2024-04-29\n",
              "10  K3F3LVR6GWV7RJ4KHQUR     jed2os  impression  2024-04-29\n",
              "11  HDXTQ93K03FK9NNSWWJ2     ywxz0s  impression  2024-04-29\n",
              "12  1GYAS7HDPACX993P201R     w1xl2m  impression  2024-04-29\n",
              "13  7WRLUXRJOEMZ6MNX4J7C     pyy94u  impression  2024-04-29\n",
              "14  1GYAS7HDPACX993P201R     h09qpe  impression  2024-04-29\n",
              "15  H099WGNZZTINN04LKHQF     izql3l  impression  2024-04-29\n",
              "16  K4HA2ZD4UCNEKZZTNXKO     5j62cy  impression  2024-04-29\n",
              "17  OCM9UM89HXY7B2LQNSND     ia93go  impression  2024-04-29\n",
              "18  0MJGNPL5TP85CMYP807Y     l2jzkb  impression  2024-04-29\n",
              "19  HCOFU1UZE99KYYWKNMK5     yx9bw0  impression  2024-04-29"
            ]
          },
          "execution_count": 15,
          "metadata": {},
          "output_type": "execute_result"
        }
      ],
      "source": [
        "df_ads_views.head(20)"
      ]
    },
    {
      "cell_type": "code",
      "execution_count": 16,
      "id": "f7a9a5af",
      "metadata": {
        "id": "f7a9a5af"
      },
      "outputs": [],
      "source": [
        "df_ads_views.to_csv('ads_views.csv', index=False)"
      ]
    },
    {
      "cell_type": "code",
      "execution_count": null,
      "id": "y6JxpWQy2xnh",
      "metadata": {
        "id": "y6JxpWQy2xnh"
      },
      "outputs": [
        {
          "ename": "",
          "evalue": "",
          "output_type": "error",
          "traceback": [
            "\u001b[1;31mRunning cells with '.venv (Python 3.9.6)' requires the ipykernel package.\n",
            "\u001b[1;31mRun the following command to install 'ipykernel' into the Python environment. \n",
            "\u001b[1;31mCommand: '/Users/ocurcio/Documents/MasterDataScience/ProgramacionAvanzada/TP/.venv/bin/python -m pip install ipykernel -U --force-reinstall'"
          ]
        }
      ],
      "source": []
    }
  ],
  "metadata": {
    "colab": {
      "provenance": []
    },
    "kernelspec": {
      "display_name": "Python 3 (ipykernel)",
      "language": "python",
      "name": "python3"
    },
    "language_info": {
      "codemirror_mode": {
        "name": "ipython",
        "version": 3
      },
      "file_extension": ".py",
      "mimetype": "text/x-python",
      "name": "python",
      "nbconvert_exporter": "python",
      "pygments_lexer": "ipython3",
      "version": "3.9.6"
    }
  },
  "nbformat": 4,
  "nbformat_minor": 5
}

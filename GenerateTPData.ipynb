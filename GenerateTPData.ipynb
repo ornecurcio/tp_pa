{
  "cells": [
    {
      "cell_type": "code",
      "execution_count": 18,
      "id": "783fc00e",
      "metadata": {
        "id": "783fc00e"
      },
      "outputs": [],
      "source": [
        "import pandas as pd\n",
        "import random\n",
        "import string"
      ]
    },
    {
      "cell_type": "markdown",
      "id": "fae29868",
      "metadata": {
        "id": "fae29868"
      },
      "source": [
        "Genero 20 advertiser_id activos y 5 inactivos"
      ]
    },
    {
      "cell_type": "code",
      "execution_count": 19,
      "id": "1e321326",
      "metadata": {
        "id": "1e321326"
      },
      "outputs": [],
      "source": [
        "random.seed(90)\n",
        "active_advertisers = [''.join(random.choices(string.ascii_uppercase + string.digits, k = 20)) for _ in range(20)]\n",
        "inactive_advertisers = [''.join(random.choices(string.ascii_uppercase + string.digits, k = 20)) for _ in range(5)]\n",
        "all_advertisers = active_advertisers+inactive_advertisers"
      ]
    },
    {
      "cell_type": "code",
      "execution_count": 20,
      "id": "8d4020ed",
      "metadata": {
        "colab": {
          "base_uri": "https://localhost:8080/"
        },
        "id": "8d4020ed",
        "outputId": "7b900220-f10d-4ddd-8e0c-2ef024c79360"
      },
      "outputs": [
        {
          "data": {
            "text/plain": [
              "['HDXVWMQ53JJC0BY84N3E',\n",
              " '1GYAS7HDPACX993P201R',\n",
              " '0MJGNPL5TP85CMYP807Y',\n",
              " 'HCOFU1UZE99KYYWKNMK5',\n",
              " 'YWAER0O2F074ZCLNAK8P',\n",
              " '1HFCN40GNHOQ5CVNX4JQ',\n",
              " '7WRLUXRJOEMZ6MNX4J7C',\n",
              " '2FSH0GSEIMRP3GWARS3L',\n",
              " 'IB14JRRL5RLZ114BOEOU',\n",
              " '93TY14WA1ZYU81WFK6NH',\n",
              " 'VIXGFHT6B6DUZLD86IIN',\n",
              " 'AV8X2SA4NICREY7DDAPR',\n",
              " 'Z5J51IX1PVK9BT28E50C',\n",
              " 'OCM9UM89HXY7B2LQNSND',\n",
              " 'LTY14YH48ZRDN5I50WE3',\n",
              " 'RALVMMRCZ047ZH6W3HMC',\n",
              " 'NLXH5XTBJTBCH8IRH3B0',\n",
              " 'HDXTQ93K03FK9NNSWWJ2',\n",
              " 'K4HA2ZD4UCNEKZZTNXKO',\n",
              " 'KD67BLL9551LG3GPTG9K']"
            ]
          },
          "execution_count": 20,
          "metadata": {},
          "output_type": "execute_result"
        }
      ],
      "source": [
        "active_advertisers"
      ]
    },
    {
      "cell_type": "code",
      "execution_count": 21,
      "id": "fa8aa17f",
      "metadata": {
        "id": "fa8aa17f"
      },
      "outputs": [],
      "source": [
        "pd.DataFrame(active_advertisers, columns=['advertiser_id']).to_csv('advertiser_ids.csv', index=False)"
      ]
    },
    {
      "cell_type": "markdown",
      "id": "0901d8ee",
      "metadata": {
        "id": "0901d8ee"
      },
      "source": [
        "Genero un catalogo de 100 productos para cada uno de los advertisables"
      ]
    },
    {
      "cell_type": "code",
      "execution_count": 22,
      "id": "f14e127e",
      "metadata": {
        "id": "f14e127e"
      },
      "outputs": [],
      "source": [
        "advertisers_catalogs = {}\n",
        "for advertiser in all_advertisers:\n",
        "    advertisers_catalogs[advertiser] = [''.join(random.choices(string.ascii_lowercase + string.digits, k = 6)) for _ in range(100)]"
      ]
    },
    {
      "cell_type": "code",
      "execution_count": 23,
      "id": "29536b71",
      "metadata": {
        "id": "29536b71"
      },
      "outputs": [],
      "source": [
        "possible_dates = [f'2024-04-{day:02d}' for day in range(29,31)] + [f'2024-05-{day:02d}' for day in range(1,20)]"
      ]
    },
    {
      "cell_type": "markdown",
      "id": "3a70f46f",
      "metadata": {
        "id": "3a70f46f"
      },
      "source": [
        "Genero lineas de vistas de producto"
      ]
    },
    {
      "cell_type": "code",
      "execution_count": 24,
      "id": "9d9881d6",
      "metadata": {
        "id": "9d9881d6"
      },
      "outputs": [],
      "source": [
        "product_views = [[advertiser := random.choice(all_advertisers), random.choice(advertisers_catalogs[advertiser]), random.choice(possible_dates)] for _ in range(100_000)]"
      ]
    },
    {
      "cell_type": "code",
      "execution_count": 25,
      "id": "a9ad9fb2",
      "metadata": {
        "id": "a9ad9fb2"
      },
      "outputs": [],
      "source": [
        "df_product_views = pd.DataFrame(product_views, columns=['advertiser_id', 'product_id', 'date'])"
      ]
    },
    {
      "cell_type": "code",
      "execution_count": 26,
      "id": "6e325c08",
      "metadata": {
        "id": "6e325c08"
      },
      "outputs": [],
      "source": [
        "df_product_views = df_product_views.sort_values('date').reset_index(drop=True)"
      ]
    },
    {
      "cell_type": "code",
      "execution_count": 27,
      "id": "6b529e6b",
      "metadata": {
        "colab": {
          "base_uri": "https://localhost:8080/",
          "height": 677
        },
        "id": "6b529e6b",
        "outputId": "6b1a783d-452f-4f60-d9a7-a1463d39b4ec"
      },
      "outputs": [
        {
          "data": {
            "text/html": [
              "<div>\n",
              "<style scoped>\n",
              "    .dataframe tbody tr th:only-of-type {\n",
              "        vertical-align: middle;\n",
              "    }\n",
              "\n",
              "    .dataframe tbody tr th {\n",
              "        vertical-align: top;\n",
              "    }\n",
              "\n",
              "    .dataframe thead th {\n",
              "        text-align: right;\n",
              "    }\n",
              "</style>\n",
              "<table border=\"1\" class=\"dataframe\">\n",
              "  <thead>\n",
              "    <tr style=\"text-align: right;\">\n",
              "      <th></th>\n",
              "      <th>advertiser_id</th>\n",
              "      <th>product_id</th>\n",
              "      <th>date</th>\n",
              "    </tr>\n",
              "  </thead>\n",
              "  <tbody>\n",
              "    <tr>\n",
              "      <th>0</th>\n",
              "      <td>LTY14YH48ZRDN5I50WE3</td>\n",
              "      <td>b1a21f</td>\n",
              "      <td>2024-04-29</td>\n",
              "    </tr>\n",
              "    <tr>\n",
              "      <th>1</th>\n",
              "      <td>HDXTQ93K03FK9NNSWWJ2</td>\n",
              "      <td>8dhu9c</td>\n",
              "      <td>2024-04-29</td>\n",
              "    </tr>\n",
              "    <tr>\n",
              "      <th>2</th>\n",
              "      <td>VIXGFHT6B6DUZLD86IIN</td>\n",
              "      <td>14hb33</td>\n",
              "      <td>2024-04-29</td>\n",
              "    </tr>\n",
              "    <tr>\n",
              "      <th>3</th>\n",
              "      <td>Z5J51IX1PVK9BT28E50C</td>\n",
              "      <td>30k2y5</td>\n",
              "      <td>2024-04-29</td>\n",
              "    </tr>\n",
              "    <tr>\n",
              "      <th>4</th>\n",
              "      <td>9CO8S9FO7VBMNNINLKDF</td>\n",
              "      <td>5mjfs2</td>\n",
              "      <td>2024-04-29</td>\n",
              "    </tr>\n",
              "    <tr>\n",
              "      <th>5</th>\n",
              "      <td>NLXH5XTBJTBCH8IRH3B0</td>\n",
              "      <td>8uydbg</td>\n",
              "      <td>2024-04-29</td>\n",
              "    </tr>\n",
              "    <tr>\n",
              "      <th>6</th>\n",
              "      <td>OCM9UM89HXY7B2LQNSND</td>\n",
              "      <td>ia93go</td>\n",
              "      <td>2024-04-29</td>\n",
              "    </tr>\n",
              "    <tr>\n",
              "      <th>7</th>\n",
              "      <td>IB14JRRL5RLZ114BOEOU</td>\n",
              "      <td>owqgr9</td>\n",
              "      <td>2024-04-29</td>\n",
              "    </tr>\n",
              "    <tr>\n",
              "      <th>8</th>\n",
              "      <td>1GYAS7HDPACX993P201R</td>\n",
              "      <td>8zsbxq</td>\n",
              "      <td>2024-04-29</td>\n",
              "    </tr>\n",
              "    <tr>\n",
              "      <th>9</th>\n",
              "      <td>HCOFU1UZE99KYYWKNMK5</td>\n",
              "      <td>tu4pdz</td>\n",
              "      <td>2024-04-29</td>\n",
              "    </tr>\n",
              "    <tr>\n",
              "      <th>10</th>\n",
              "      <td>LTY14YH48ZRDN5I50WE3</td>\n",
              "      <td>4lxy37</td>\n",
              "      <td>2024-04-29</td>\n",
              "    </tr>\n",
              "    <tr>\n",
              "      <th>11</th>\n",
              "      <td>NLXH5XTBJTBCH8IRH3B0</td>\n",
              "      <td>biiv43</td>\n",
              "      <td>2024-04-29</td>\n",
              "    </tr>\n",
              "    <tr>\n",
              "      <th>12</th>\n",
              "      <td>YWAER0O2F074ZCLNAK8P</td>\n",
              "      <td>0f7jdr</td>\n",
              "      <td>2024-04-29</td>\n",
              "    </tr>\n",
              "    <tr>\n",
              "      <th>13</th>\n",
              "      <td>Z5J51IX1PVK9BT28E50C</td>\n",
              "      <td>s0042c</td>\n",
              "      <td>2024-04-29</td>\n",
              "    </tr>\n",
              "    <tr>\n",
              "      <th>14</th>\n",
              "      <td>HDXTQ93K03FK9NNSWWJ2</td>\n",
              "      <td>jxq3eo</td>\n",
              "      <td>2024-04-29</td>\n",
              "    </tr>\n",
              "    <tr>\n",
              "      <th>15</th>\n",
              "      <td>OCM9UM89HXY7B2LQNSND</td>\n",
              "      <td>z42xtn</td>\n",
              "      <td>2024-04-29</td>\n",
              "    </tr>\n",
              "    <tr>\n",
              "      <th>16</th>\n",
              "      <td>1GYAS7HDPACX993P201R</td>\n",
              "      <td>0fm7tj</td>\n",
              "      <td>2024-04-29</td>\n",
              "    </tr>\n",
              "    <tr>\n",
              "      <th>17</th>\n",
              "      <td>IB14JRRL5RLZ114BOEOU</td>\n",
              "      <td>60nx4e</td>\n",
              "      <td>2024-04-29</td>\n",
              "    </tr>\n",
              "    <tr>\n",
              "      <th>18</th>\n",
              "      <td>AV8X2SA4NICREY7DDAPR</td>\n",
              "      <td>9of292</td>\n",
              "      <td>2024-04-29</td>\n",
              "    </tr>\n",
              "    <tr>\n",
              "      <th>19</th>\n",
              "      <td>2FSH0GSEIMRP3GWARS3L</td>\n",
              "      <td>jldjal</td>\n",
              "      <td>2024-04-29</td>\n",
              "    </tr>\n",
              "  </tbody>\n",
              "</table>\n",
              "</div>"
            ],
            "text/plain": [
              "           advertiser_id product_id        date\n",
              "0   LTY14YH48ZRDN5I50WE3     b1a21f  2024-04-29\n",
              "1   HDXTQ93K03FK9NNSWWJ2     8dhu9c  2024-04-29\n",
              "2   VIXGFHT6B6DUZLD86IIN     14hb33  2024-04-29\n",
              "3   Z5J51IX1PVK9BT28E50C     30k2y5  2024-04-29\n",
              "4   9CO8S9FO7VBMNNINLKDF     5mjfs2  2024-04-29\n",
              "5   NLXH5XTBJTBCH8IRH3B0     8uydbg  2024-04-29\n",
              "6   OCM9UM89HXY7B2LQNSND     ia93go  2024-04-29\n",
              "7   IB14JRRL5RLZ114BOEOU     owqgr9  2024-04-29\n",
              "8   1GYAS7HDPACX993P201R     8zsbxq  2024-04-29\n",
              "9   HCOFU1UZE99KYYWKNMK5     tu4pdz  2024-04-29\n",
              "10  LTY14YH48ZRDN5I50WE3     4lxy37  2024-04-29\n",
              "11  NLXH5XTBJTBCH8IRH3B0     biiv43  2024-04-29\n",
              "12  YWAER0O2F074ZCLNAK8P     0f7jdr  2024-04-29\n",
              "13  Z5J51IX1PVK9BT28E50C     s0042c  2024-04-29\n",
              "14  HDXTQ93K03FK9NNSWWJ2     jxq3eo  2024-04-29\n",
              "15  OCM9UM89HXY7B2LQNSND     z42xtn  2024-04-29\n",
              "16  1GYAS7HDPACX993P201R     0fm7tj  2024-04-29\n",
              "17  IB14JRRL5RLZ114BOEOU     60nx4e  2024-04-29\n",
              "18  AV8X2SA4NICREY7DDAPR     9of292  2024-04-29\n",
              "19  2FSH0GSEIMRP3GWARS3L     jldjal  2024-04-29"
            ]
          },
          "execution_count": 27,
          "metadata": {},
          "output_type": "execute_result"
        }
      ],
      "source": [
        "df_product_views.head(20)"
      ]
    },
    {
      "cell_type": "code",
      "execution_count": 28,
      "id": "82920f82",
      "metadata": {
        "id": "82920f82"
      },
      "outputs": [],
      "source": [
        "df_product_views.to_csv('product_views.csv', index=False)"
      ]
    },
    {
      "cell_type": "markdown",
      "id": "59a5441f",
      "metadata": {
        "id": "59a5441f"
      },
      "source": [
        "Genero lineas de vistas de ads"
      ]
    },
    {
      "cell_type": "code",
      "execution_count": 29,
      "id": "000c1cec",
      "metadata": {
        "id": "000c1cec"
      },
      "outputs": [],
      "source": [
        "ads_views = [[advertiser := random.choice(all_advertisers), random.choice(advertisers_catalogs[advertiser]), random.choices(['impression', 'click'], weights=[99, 1])[0], random.choice(possible_dates)] for _ in range(100_000)]"
      ]
    },
    {
      "cell_type": "code",
      "execution_count": 30,
      "id": "4808515d",
      "metadata": {
        "id": "4808515d"
      },
      "outputs": [],
      "source": [
        "df_ads_views = pd.DataFrame(ads_views, columns=['advertiser_id', 'product_id', 'type', 'date'])"
      ]
    },
    {
      "cell_type": "code",
      "execution_count": 31,
      "id": "1243bec6",
      "metadata": {
        "id": "1243bec6"
      },
      "outputs": [],
      "source": [
        "df_ads_views = df_ads_views.sort_values('date').reset_index(drop=True)"
      ]
    },
    {
      "cell_type": "code",
      "execution_count": 32,
      "id": "317bde80",
      "metadata": {
        "colab": {
          "base_uri": "https://localhost:8080/",
          "height": 677
        },
        "id": "317bde80",
        "outputId": "127497cd-b18c-43b7-9476-60a26b4058d2"
      },
      "outputs": [
        {
          "data": {
            "text/html": [
              "<div>\n",
              "<style scoped>\n",
              "    .dataframe tbody tr th:only-of-type {\n",
              "        vertical-align: middle;\n",
              "    }\n",
              "\n",
              "    .dataframe tbody tr th {\n",
              "        vertical-align: top;\n",
              "    }\n",
              "\n",
              "    .dataframe thead th {\n",
              "        text-align: right;\n",
              "    }\n",
              "</style>\n",
              "<table border=\"1\" class=\"dataframe\">\n",
              "  <thead>\n",
              "    <tr style=\"text-align: right;\">\n",
              "      <th></th>\n",
              "      <th>advertiser_id</th>\n",
              "      <th>product_id</th>\n",
              "      <th>type</th>\n",
              "      <th>date</th>\n",
              "    </tr>\n",
              "  </thead>\n",
              "  <tbody>\n",
              "    <tr>\n",
              "      <th>0</th>\n",
              "      <td>2FSH0GSEIMRP3GWARS3L</td>\n",
              "      <td>lgcic9</td>\n",
              "      <td>impression</td>\n",
              "      <td>2024-04-29</td>\n",
              "    </tr>\n",
              "    <tr>\n",
              "      <th>1</th>\n",
              "      <td>1HFCN40GNHOQ5CVNX4JQ</td>\n",
              "      <td>qr7imz</td>\n",
              "      <td>impression</td>\n",
              "      <td>2024-04-29</td>\n",
              "    </tr>\n",
              "    <tr>\n",
              "      <th>2</th>\n",
              "      <td>7WRLUXRJOEMZ6MNX4J7C</td>\n",
              "      <td>3wpyz1</td>\n",
              "      <td>impression</td>\n",
              "      <td>2024-04-29</td>\n",
              "    </tr>\n",
              "    <tr>\n",
              "      <th>3</th>\n",
              "      <td>93TY14WA1ZYU81WFK6NH</td>\n",
              "      <td>ijxa0n</td>\n",
              "      <td>impression</td>\n",
              "      <td>2024-04-29</td>\n",
              "    </tr>\n",
              "    <tr>\n",
              "      <th>4</th>\n",
              "      <td>2FSH0GSEIMRP3GWARS3L</td>\n",
              "      <td>d0cplw</td>\n",
              "      <td>impression</td>\n",
              "      <td>2024-04-29</td>\n",
              "    </tr>\n",
              "    <tr>\n",
              "      <th>5</th>\n",
              "      <td>HDXVWMQ53JJC0BY84N3E</td>\n",
              "      <td>lyu553</td>\n",
              "      <td>impression</td>\n",
              "      <td>2024-04-29</td>\n",
              "    </tr>\n",
              "    <tr>\n",
              "      <th>6</th>\n",
              "      <td>0MJGNPL5TP85CMYP807Y</td>\n",
              "      <td>k2sxxh</td>\n",
              "      <td>impression</td>\n",
              "      <td>2024-04-29</td>\n",
              "    </tr>\n",
              "    <tr>\n",
              "      <th>7</th>\n",
              "      <td>1HFCN40GNHOQ5CVNX4JQ</td>\n",
              "      <td>1qxe4j</td>\n",
              "      <td>impression</td>\n",
              "      <td>2024-04-29</td>\n",
              "    </tr>\n",
              "    <tr>\n",
              "      <th>8</th>\n",
              "      <td>1GYAS7HDPACX993P201R</td>\n",
              "      <td>c7d0nj</td>\n",
              "      <td>impression</td>\n",
              "      <td>2024-04-29</td>\n",
              "    </tr>\n",
              "    <tr>\n",
              "      <th>9</th>\n",
              "      <td>Z5J51IX1PVK9BT28E50C</td>\n",
              "      <td>onmsq6</td>\n",
              "      <td>impression</td>\n",
              "      <td>2024-04-29</td>\n",
              "    </tr>\n",
              "    <tr>\n",
              "      <th>10</th>\n",
              "      <td>IB14JRRL5RLZ114BOEOU</td>\n",
              "      <td>0gr2nu</td>\n",
              "      <td>impression</td>\n",
              "      <td>2024-04-29</td>\n",
              "    </tr>\n",
              "    <tr>\n",
              "      <th>11</th>\n",
              "      <td>7WRLUXRJOEMZ6MNX4J7C</td>\n",
              "      <td>ea2bpv</td>\n",
              "      <td>impression</td>\n",
              "      <td>2024-04-29</td>\n",
              "    </tr>\n",
              "    <tr>\n",
              "      <th>12</th>\n",
              "      <td>RALVMMRCZ047ZH6W3HMC</td>\n",
              "      <td>ze8c2k</td>\n",
              "      <td>impression</td>\n",
              "      <td>2024-04-29</td>\n",
              "    </tr>\n",
              "    <tr>\n",
              "      <th>13</th>\n",
              "      <td>YWAER0O2F074ZCLNAK8P</td>\n",
              "      <td>0rc4y6</td>\n",
              "      <td>impression</td>\n",
              "      <td>2024-04-29</td>\n",
              "    </tr>\n",
              "    <tr>\n",
              "      <th>14</th>\n",
              "      <td>NLXH5XTBJTBCH8IRH3B0</td>\n",
              "      <td>x5qiss</td>\n",
              "      <td>impression</td>\n",
              "      <td>2024-04-29</td>\n",
              "    </tr>\n",
              "    <tr>\n",
              "      <th>15</th>\n",
              "      <td>93TY14WA1ZYU81WFK6NH</td>\n",
              "      <td>dayi8o</td>\n",
              "      <td>impression</td>\n",
              "      <td>2024-04-29</td>\n",
              "    </tr>\n",
              "    <tr>\n",
              "      <th>16</th>\n",
              "      <td>93TY14WA1ZYU81WFK6NH</td>\n",
              "      <td>dayi8o</td>\n",
              "      <td>impression</td>\n",
              "      <td>2024-04-29</td>\n",
              "    </tr>\n",
              "    <tr>\n",
              "      <th>17</th>\n",
              "      <td>IB14JRRL5RLZ114BOEOU</td>\n",
              "      <td>0bxy0j</td>\n",
              "      <td>impression</td>\n",
              "      <td>2024-04-29</td>\n",
              "    </tr>\n",
              "    <tr>\n",
              "      <th>18</th>\n",
              "      <td>H099WGNZZTINN04LKHQF</td>\n",
              "      <td>ygyiar</td>\n",
              "      <td>impression</td>\n",
              "      <td>2024-04-29</td>\n",
              "    </tr>\n",
              "    <tr>\n",
              "      <th>19</th>\n",
              "      <td>7WRLUXRJOEMZ6MNX4J7C</td>\n",
              "      <td>0dz8wr</td>\n",
              "      <td>impression</td>\n",
              "      <td>2024-04-29</td>\n",
              "    </tr>\n",
              "  </tbody>\n",
              "</table>\n",
              "</div>"
            ],
            "text/plain": [
              "           advertiser_id product_id        type        date\n",
              "0   2FSH0GSEIMRP3GWARS3L     lgcic9  impression  2024-04-29\n",
              "1   1HFCN40GNHOQ5CVNX4JQ     qr7imz  impression  2024-04-29\n",
              "2   7WRLUXRJOEMZ6MNX4J7C     3wpyz1  impression  2024-04-29\n",
              "3   93TY14WA1ZYU81WFK6NH     ijxa0n  impression  2024-04-29\n",
              "4   2FSH0GSEIMRP3GWARS3L     d0cplw  impression  2024-04-29\n",
              "5   HDXVWMQ53JJC0BY84N3E     lyu553  impression  2024-04-29\n",
              "6   0MJGNPL5TP85CMYP807Y     k2sxxh  impression  2024-04-29\n",
              "7   1HFCN40GNHOQ5CVNX4JQ     1qxe4j  impression  2024-04-29\n",
              "8   1GYAS7HDPACX993P201R     c7d0nj  impression  2024-04-29\n",
              "9   Z5J51IX1PVK9BT28E50C     onmsq6  impression  2024-04-29\n",
              "10  IB14JRRL5RLZ114BOEOU     0gr2nu  impression  2024-04-29\n",
              "11  7WRLUXRJOEMZ6MNX4J7C     ea2bpv  impression  2024-04-29\n",
              "12  RALVMMRCZ047ZH6W3HMC     ze8c2k  impression  2024-04-29\n",
              "13  YWAER0O2F074ZCLNAK8P     0rc4y6  impression  2024-04-29\n",
              "14  NLXH5XTBJTBCH8IRH3B0     x5qiss  impression  2024-04-29\n",
              "15  93TY14WA1ZYU81WFK6NH     dayi8o  impression  2024-04-29\n",
              "16  93TY14WA1ZYU81WFK6NH     dayi8o  impression  2024-04-29\n",
              "17  IB14JRRL5RLZ114BOEOU     0bxy0j  impression  2024-04-29\n",
              "18  H099WGNZZTINN04LKHQF     ygyiar  impression  2024-04-29\n",
              "19  7WRLUXRJOEMZ6MNX4J7C     0dz8wr  impression  2024-04-29"
            ]
          },
          "execution_count": 32,
          "metadata": {},
          "output_type": "execute_result"
        }
      ],
      "source": [
        "df_ads_views.head(20)"
      ]
    },
    {
      "cell_type": "code",
      "execution_count": 33,
      "id": "f7a9a5af",
      "metadata": {
        "id": "f7a9a5af"
      },
      "outputs": [],
      "source": [
        "df_ads_views.to_csv('ads_views.csv', index=False)"
      ]
    },
    {
      "cell_type": "code",
      "execution_count": null,
      "id": "y6JxpWQy2xnh",
      "metadata": {
        "id": "y6JxpWQy2xnh"
      },
      "outputs": [],
      "source": []
    }
  ],
  "metadata": {
    "colab": {
      "provenance": []
    },
    "kernelspec": {
      "display_name": "Python 3 (ipykernel)",
      "language": "python",
      "name": "python3"
    },
    "language_info": {
      "codemirror_mode": {
        "name": "ipython",
        "version": 3
      },
      "file_extension": ".py",
      "mimetype": "text/x-python",
      "name": "python",
      "nbconvert_exporter": "python",
      "pygments_lexer": "ipython3",
      "version": "3.9.6"
    }
  },
  "nbformat": 4,
  "nbformat_minor": 5
}
